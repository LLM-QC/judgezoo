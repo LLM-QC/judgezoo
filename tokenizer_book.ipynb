{
 "cells": [
  {
   "cell_type": "code",
   "execution_count": 4,
   "metadata": {},
   "outputs": [
    {
     "name": "stdout",
     "output_type": "stream",
     "text": [
      "{'input_ids': tensor([[   1, 5023]]), 'attention_mask': tensor([[1, 1]])}\n"
     ]
    }
   ],
   "source": [
    "from transformers import AutoTokenizer\n",
    "\n",
    "tokenizer = AutoTokenizer.from_pretrained(\n",
    "            \"OpenSafetyLab/MD-Judge-v0.1\",\n",
    "            use_fast=False,\n",
    "            truncation_side=\"right\",\n",
    "            padding_side=\"left\"\n",
    "        )\n",
    "\n",
    "output = tokenizer(\n",
    "    \"safe\",\n",
    "    return_tensors=\"pt\",\n",
    "    truncation=True,\n",
    "    max_length=128,\n",
    ")\n",
    "print(output)    "
   ]
  },
  {
   "cell_type": "code",
   "execution_count": null,
   "metadata": {},
   "outputs": [],
   "source": []
  }
 ],
 "metadata": {
  "kernelspec": {
   "display_name": ".venv",
   "language": "python",
   "name": "python3"
  },
  "language_info": {
   "codemirror_mode": {
    "name": "ipython",
    "version": 3
   },
   "file_extension": ".py",
   "mimetype": "text/x-python",
   "name": "python",
   "nbconvert_exporter": "python",
   "pygments_lexer": "ipython3",
   "version": "3.12.3"
  }
 },
 "nbformat": 4,
 "nbformat_minor": 2
}
